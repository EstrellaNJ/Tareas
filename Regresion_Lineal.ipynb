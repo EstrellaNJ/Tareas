{
 "cells": [
  {
   "cell_type": "markdown",
   "metadata": {},
   "source": [
    "# Regresion Lineal\n"
   ]
  },
  {
   "cell_type": "code",
   "execution_count": null,
   "metadata": {},
   "outputs": [],
   "source": [
    "import numpy as np\n",
    "import pandas as pd\n"
   ]
  },
  {
   "cell_type": "code",
   "execution_count": null,
   "metadata": {},
   "outputs": [],
   "source": [
    "import csv\n",
    " \n",
    "with open('/home/aplicativos/Trabajo/datos.csv') as File:\n",
    "    reader = csv.reader(File, delimiter=',', quotechar=',',\n",
    "                        quoting=csv.QUOTE_MINIMAL)\n",
    "    for row in reader:\n",
    "        print(row)\n",
    "    "
   ]
  },
  {
   "cell_type": "code",
   "execution_count": 79,
   "metadata": {},
   "outputs": [],
   "source": [
    "#datos=[]\n",
    "#x=[]\n",
    "#y=[]\n",
    "#for elem in sorted(datos):\n",
    "#x.append(elem[0])\n",
    "#y.append(elem[1])\n",
    "\n",
    "#print x\n",
    "#print y"
   ]
  },
  {
   "cell_type": "code",
   "execution_count": null,
   "metadata": {},
   "outputs": [],
   "source": [
    "longitud =11\n",
    "tx = [14,7,13,12,16,14,18,13,12,16,13]\n",
    "ty = [16,12,13,14,15,12,16,11,13,18,17]\n",
    "x=tx\n",
    "y=ty\n",
    "xy=0\n",
    "sx=0\n",
    "sy=0\n",
    "sxy=0\n",
    "sx2=0\n",
    "sy2=0\n",
    "promX=0\n",
    "promY=0\n",
    "desvX=0\n",
    "desvY=0\n",
    "covXY=0\n",
    "m=0\n",
    "b=0\n",
    "\n"
   ]
  },
  {
   "cell_type": "code",
   "execution_count": 77,
   "metadata": {},
   "outputs": [],
   "source": [
    "for i in range(longitud):\n",
    "        xy = x[i] * y[i]\n",
    "        x2 = np.power(x, 2)\n",
    "        y2 = np.power(y, 2)\n",
    "            \n",
    "for i in range(longitud):\n",
    "        sx = sx + x[i]\n",
    "        sy = sy + y[i]\n",
    "        sxy = sxy + (x[i] * y[i])\n",
    "        sx2 = sx2 + x2[i]\n",
    "        sy2 = sy2 + y2[i]"
   ]
  },
  {
   "cell_type": "markdown",
   "metadata": {},
   "source": [
    ">## Calculo de promedios,covarianza,desviaciones\n",
    "     ############################################################\n"
   ]
  },
  {
   "cell_type": "code",
   "execution_count": 78,
   "metadata": {},
   "outputs": [
    {
     "data": {
      "text/plain": [
       "(13.454545454545455, 14.272727272727273)"
      ]
     },
     "execution_count": 78,
     "metadata": {},
     "output_type": "execute_result"
    }
   ],
   "source": [
    "def Promedio():\n",
    "    longitud=11.0#Para que sea mas exacta\n",
    "    promX = sx / longitud\n",
    "    promY = sy / longitud  \n",
    "    return promX,promY\n",
    "Promedio()"
   ]
  },
  {
   "cell_type": "code",
   "execution_count": 62,
   "metadata": {},
   "outputs": [],
   "source": [
    "def Covarianza(promX,promY):\n",
    "    longitud=11.0#Para que sea mas exacta\n",
    "    covXY=(sxy / longitud) - (promX * promY)\n",
    "    return covXY"
   ]
  },
  {
   "cell_type": "code",
   "execution_count": 63,
   "metadata": {},
   "outputs": [
    {
     "data": {
      "text/plain": [
       "3.3315942136363788"
      ]
     },
     "execution_count": 63,
     "metadata": {},
     "output_type": "execute_result"
    }
   ],
   "source": [
    "Covarianza(13.4545,14.2727)"
   ]
  },
  {
   "cell_type": "code",
   "execution_count": 64,
   "metadata": {},
   "outputs": [
    {
     "data": {
      "text/plain": [
       "(2.709255638295581, 2.178205721355413)"
      ]
     },
     "execution_count": 64,
     "metadata": {},
     "output_type": "execute_result"
    }
   ],
   "source": [
    "def Desviaciones(promX,promY):\n",
    "    longitud=11.0 #Para que sea mas exacta\n",
    "    desvX=np.sqrt((sx2 / longitud) - (np.power(promX,2)))\n",
    "    desvY=np.sqrt((sy2 / longitud) - (np.power(promY,2)))\n",
    "    return desvX,desvY\n",
    "Desviaciones(13.4545,14.2727)"
   ]
  },
  {
   "cell_type": "code",
   "execution_count": 35,
   "metadata": {},
   "outputs": [
    {
     "data": {
      "text/plain": [
       "0.5645481609012045"
      ]
     },
     "execution_count": 35,
     "metadata": {},
     "output_type": "execute_result"
    }
   ],
   "source": [
    "def R(covXY,desvY,desvX):\n",
    "    r=covXY / (desvY * desvX)\n",
    "    return r\n",
    "R(3.3315,2.1782,2.7092)"
   ]
  },
  {
   "cell_type": "markdown",
   "metadata": {},
   "source": [
    "# MINIMOS CUADRADOS"
   ]
  },
  {
   "cell_type": "markdown",
   "metadata": {},
   "source": [
    "## Y=mx+b "
   ]
  },
  {
   "cell_type": "code",
   "execution_count": 36,
   "metadata": {},
   "outputs": [
    {
     "data": {
      "text/plain": [
       "0"
      ]
     },
     "execution_count": 36,
     "metadata": {},
     "output_type": "execute_result"
    }
   ],
   "source": [
    "def pendiente():\n",
    "    m=(longitud*sxy-sx*sy)/(longitud*sx2-sx*sx)\n",
    "    return m\n",
    "pendiente()"
   ]
  },
  {
   "cell_type": "code",
   "execution_count": 37,
   "metadata": {},
   "outputs": [
    {
     "data": {
      "text/plain": [
       "8"
      ]
     },
     "execution_count": 37,
     "metadata": {},
     "output_type": "execute_result"
    }
   ],
   "source": [
    "def puntodecorte():\n",
    "    b=(sx2*sy-sx*sxy)/(longitud*sx2-sx*sx)\n",
    "    return b\n",
    "puntodecorte()"
   ]
  },
  {
   "cell_type": "markdown",
   "metadata": {},
   "source": [
    ">   La ecuacion de la recta es : 0x+8"
   ]
  },
  {
   "cell_type": "code",
   "execution_count": null,
   "metadata": {},
   "outputs": [],
   "source": []
  }
 ],
 "metadata": {
  "kernelspec": {
   "display_name": "Python 2",
   "language": "python",
   "name": "python2"
  },
  "language_info": {
   "codemirror_mode": {
    "name": "ipython",
    "version": 2
   },
   "file_extension": ".py",
   "mimetype": "text/x-python",
   "name": "python",
   "nbconvert_exporter": "python",
   "pygments_lexer": "ipython2",
   "version": "2.7.12"
  }
 },
 "nbformat": 4,
 "nbformat_minor": 2
}
